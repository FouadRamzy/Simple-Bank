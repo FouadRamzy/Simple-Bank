{
 "cells": [
  {
   "cell_type": "code",
   "execution_count": 31,
   "id": "d81a73d4-5e9e-478d-a0ce-45af35354018",
   "metadata": {},
   "outputs": [
    {
     "name": "stderr",
     "output_type": "stream",
     "text": [
      "<>:8: SyntaxWarning: invalid escape sequence '\\D'\n",
      "<>:8: SyntaxWarning: invalid escape sequence '\\D'\n",
      "C:\\Users\\Kimo Store\\AppData\\Local\\Temp\\ipykernel_9996\\3635495178.py:8: SyntaxWarning: invalid escape sequence '\\D'\n",
      "  df =pd.read_csv(\"D:\\Downloads\\diamonds.csv\")\n"
     ]
    }
   ],
   "source": [
    "import seaborn as sns\n",
    "import pandas as pd \n",
    "import numpy as np\n",
    "import matplotlib.pyplot as plt\n",
    "from sklearn.preprocessing import LabelEncoder\n",
    "from sklearn.preprocessing import PowerTransformer\n",
    "from sklearn.preprocessing import StandardScaler, RobustScaler, PowerTransformer\n",
    "df =pd.read_csv(\"D:\\Downloads\\diamonds.csv\")"
   ]
  },
  {
   "cell_type": "code",
   "execution_count": 32,
   "id": "256e3fc9-e56d-42f4-a5b9-84869c352193",
   "metadata": {},
   "outputs": [
    {
     "data": {
      "text/html": [
       "<div>\n",
       "<style scoped>\n",
       "    .dataframe tbody tr th:only-of-type {\n",
       "        vertical-align: middle;\n",
       "    }\n",
       "\n",
       "    .dataframe tbody tr th {\n",
       "        vertical-align: top;\n",
       "    }\n",
       "\n",
       "    .dataframe thead th {\n",
       "        text-align: right;\n",
       "    }\n",
       "</style>\n",
       "<table border=\"1\" class=\"dataframe\">\n",
       "  <thead>\n",
       "    <tr style=\"text-align: right;\">\n",
       "      <th></th>\n",
       "      <th>Unnamed: 0</th>\n",
       "      <th>carat</th>\n",
       "      <th>cut</th>\n",
       "      <th>color</th>\n",
       "      <th>clarity</th>\n",
       "      <th>depth</th>\n",
       "      <th>table</th>\n",
       "      <th>price</th>\n",
       "      <th>x</th>\n",
       "      <th>y</th>\n",
       "      <th>z</th>\n",
       "    </tr>\n",
       "  </thead>\n",
       "  <tbody>\n",
       "    <tr>\n",
       "      <th>0</th>\n",
       "      <td>0</td>\n",
       "      <td>0.23</td>\n",
       "      <td>Ideal</td>\n",
       "      <td>E</td>\n",
       "      <td>SI2</td>\n",
       "      <td>61.5</td>\n",
       "      <td>55.0</td>\n",
       "      <td>326</td>\n",
       "      <td>3.95</td>\n",
       "      <td>3.98</td>\n",
       "      <td>2.43</td>\n",
       "    </tr>\n",
       "    <tr>\n",
       "      <th>1</th>\n",
       "      <td>1</td>\n",
       "      <td>0.21</td>\n",
       "      <td>Premium</td>\n",
       "      <td>E</td>\n",
       "      <td>SI1</td>\n",
       "      <td>59.8</td>\n",
       "      <td>61.0</td>\n",
       "      <td>326</td>\n",
       "      <td>3.89</td>\n",
       "      <td>3.84</td>\n",
       "      <td>2.31</td>\n",
       "    </tr>\n",
       "    <tr>\n",
       "      <th>2</th>\n",
       "      <td>2</td>\n",
       "      <td>0.23</td>\n",
       "      <td>Good</td>\n",
       "      <td>E</td>\n",
       "      <td>VS1</td>\n",
       "      <td>56.9</td>\n",
       "      <td>65.0</td>\n",
       "      <td>327</td>\n",
       "      <td>4.05</td>\n",
       "      <td>4.07</td>\n",
       "      <td>2.31</td>\n",
       "    </tr>\n",
       "    <tr>\n",
       "      <th>3</th>\n",
       "      <td>3</td>\n",
       "      <td>0.29</td>\n",
       "      <td>Premium</td>\n",
       "      <td>I</td>\n",
       "      <td>VS2</td>\n",
       "      <td>62.4</td>\n",
       "      <td>58.0</td>\n",
       "      <td>334</td>\n",
       "      <td>4.20</td>\n",
       "      <td>4.23</td>\n",
       "      <td>2.63</td>\n",
       "    </tr>\n",
       "    <tr>\n",
       "      <th>4</th>\n",
       "      <td>4</td>\n",
       "      <td>0.31</td>\n",
       "      <td>Good</td>\n",
       "      <td>J</td>\n",
       "      <td>SI2</td>\n",
       "      <td>63.3</td>\n",
       "      <td>58.0</td>\n",
       "      <td>335</td>\n",
       "      <td>4.34</td>\n",
       "      <td>4.35</td>\n",
       "      <td>2.75</td>\n",
       "    </tr>\n",
       "  </tbody>\n",
       "</table>\n",
       "</div>"
      ],
      "text/plain": [
       "   Unnamed: 0  carat      cut color clarity  depth  table  price     x     y  \\\n",
       "0           0   0.23    Ideal     E     SI2   61.5   55.0    326  3.95  3.98   \n",
       "1           1   0.21  Premium     E     SI1   59.8   61.0    326  3.89  3.84   \n",
       "2           2   0.23     Good     E     VS1   56.9   65.0    327  4.05  4.07   \n",
       "3           3   0.29  Premium     I     VS2   62.4   58.0    334  4.20  4.23   \n",
       "4           4   0.31     Good     J     SI2   63.3   58.0    335  4.34  4.35   \n",
       "\n",
       "      z  \n",
       "0  2.43  \n",
       "1  2.31  \n",
       "2  2.31  \n",
       "3  2.63  \n",
       "4  2.75  "
      ]
     },
     "execution_count": 32,
     "metadata": {},
     "output_type": "execute_result"
    }
   ],
   "source": [
    "df.head()"
   ]
  },
  {
   "cell_type": "code",
   "execution_count": 33,
   "id": "137f985e-4610-4095-8e6d-679b4649c735",
   "metadata": {},
   "outputs": [
    {
     "data": {
      "text/html": [
       "<div>\n",
       "<style scoped>\n",
       "    .dataframe tbody tr th:only-of-type {\n",
       "        vertical-align: middle;\n",
       "    }\n",
       "\n",
       "    .dataframe tbody tr th {\n",
       "        vertical-align: top;\n",
       "    }\n",
       "\n",
       "    .dataframe thead th {\n",
       "        text-align: right;\n",
       "    }\n",
       "</style>\n",
       "<table border=\"1\" class=\"dataframe\">\n",
       "  <thead>\n",
       "    <tr style=\"text-align: right;\">\n",
       "      <th></th>\n",
       "      <th>Unnamed: 0</th>\n",
       "      <th>carat</th>\n",
       "      <th>depth</th>\n",
       "      <th>table</th>\n",
       "      <th>price</th>\n",
       "      <th>x</th>\n",
       "      <th>y</th>\n",
       "      <th>z</th>\n",
       "    </tr>\n",
       "  </thead>\n",
       "  <tbody>\n",
       "    <tr>\n",
       "      <th>count</th>\n",
       "      <td>53940.000000</td>\n",
       "      <td>53940.000000</td>\n",
       "      <td>53940.000000</td>\n",
       "      <td>53940.000000</td>\n",
       "      <td>53940.000000</td>\n",
       "      <td>53939.000000</td>\n",
       "      <td>53940.000000</td>\n",
       "      <td>53940.000000</td>\n",
       "    </tr>\n",
       "    <tr>\n",
       "      <th>mean</th>\n",
       "      <td>26969.500000</td>\n",
       "      <td>0.797940</td>\n",
       "      <td>61.749405</td>\n",
       "      <td>57.457184</td>\n",
       "      <td>3932.799722</td>\n",
       "      <td>5.731153</td>\n",
       "      <td>5.734526</td>\n",
       "      <td>3.538734</td>\n",
       "    </tr>\n",
       "    <tr>\n",
       "      <th>std</th>\n",
       "      <td>15571.281097</td>\n",
       "      <td>0.474011</td>\n",
       "      <td>1.432621</td>\n",
       "      <td>2.234491</td>\n",
       "      <td>3989.439738</td>\n",
       "      <td>1.121771</td>\n",
       "      <td>1.142135</td>\n",
       "      <td>0.705699</td>\n",
       "    </tr>\n",
       "    <tr>\n",
       "      <th>min</th>\n",
       "      <td>0.000000</td>\n",
       "      <td>0.200000</td>\n",
       "      <td>43.000000</td>\n",
       "      <td>43.000000</td>\n",
       "      <td>326.000000</td>\n",
       "      <td>0.000000</td>\n",
       "      <td>0.000000</td>\n",
       "      <td>0.000000</td>\n",
       "    </tr>\n",
       "    <tr>\n",
       "      <th>25%</th>\n",
       "      <td>13484.750000</td>\n",
       "      <td>0.400000</td>\n",
       "      <td>61.000000</td>\n",
       "      <td>56.000000</td>\n",
       "      <td>950.000000</td>\n",
       "      <td>4.710000</td>\n",
       "      <td>4.720000</td>\n",
       "      <td>2.910000</td>\n",
       "    </tr>\n",
       "    <tr>\n",
       "      <th>50%</th>\n",
       "      <td>26969.500000</td>\n",
       "      <td>0.700000</td>\n",
       "      <td>61.800000</td>\n",
       "      <td>57.000000</td>\n",
       "      <td>2401.000000</td>\n",
       "      <td>5.700000</td>\n",
       "      <td>5.710000</td>\n",
       "      <td>3.530000</td>\n",
       "    </tr>\n",
       "    <tr>\n",
       "      <th>75%</th>\n",
       "      <td>40454.250000</td>\n",
       "      <td>1.040000</td>\n",
       "      <td>62.500000</td>\n",
       "      <td>59.000000</td>\n",
       "      <td>5324.250000</td>\n",
       "      <td>6.540000</td>\n",
       "      <td>6.540000</td>\n",
       "      <td>4.040000</td>\n",
       "    </tr>\n",
       "    <tr>\n",
       "      <th>max</th>\n",
       "      <td>53939.000000</td>\n",
       "      <td>5.010000</td>\n",
       "      <td>79.000000</td>\n",
       "      <td>95.000000</td>\n",
       "      <td>18823.000000</td>\n",
       "      <td>10.740000</td>\n",
       "      <td>58.900000</td>\n",
       "      <td>31.800000</td>\n",
       "    </tr>\n",
       "  </tbody>\n",
       "</table>\n",
       "</div>"
      ],
      "text/plain": [
       "         Unnamed: 0         carat         depth         table         price  \\\n",
       "count  53940.000000  53940.000000  53940.000000  53940.000000  53940.000000   \n",
       "mean   26969.500000      0.797940     61.749405     57.457184   3932.799722   \n",
       "std    15571.281097      0.474011      1.432621      2.234491   3989.439738   \n",
       "min        0.000000      0.200000     43.000000     43.000000    326.000000   \n",
       "25%    13484.750000      0.400000     61.000000     56.000000    950.000000   \n",
       "50%    26969.500000      0.700000     61.800000     57.000000   2401.000000   \n",
       "75%    40454.250000      1.040000     62.500000     59.000000   5324.250000   \n",
       "max    53939.000000      5.010000     79.000000     95.000000  18823.000000   \n",
       "\n",
       "                  x             y             z  \n",
       "count  53939.000000  53940.000000  53940.000000  \n",
       "mean       5.731153      5.734526      3.538734  \n",
       "std        1.121771      1.142135      0.705699  \n",
       "min        0.000000      0.000000      0.000000  \n",
       "25%        4.710000      4.720000      2.910000  \n",
       "50%        5.700000      5.710000      3.530000  \n",
       "75%        6.540000      6.540000      4.040000  \n",
       "max       10.740000     58.900000     31.800000  "
      ]
     },
     "execution_count": 33,
     "metadata": {},
     "output_type": "execute_result"
    }
   ],
   "source": [
    "df.describe()"
   ]
  },
  {
   "cell_type": "code",
   "execution_count": 34,
   "id": "490a7e18-741a-4a40-9e49-e5a9d5c488c8",
   "metadata": {},
   "outputs": [
    {
     "name": "stdout",
     "output_type": "stream",
     "text": [
      "<class 'pandas.core.frame.DataFrame'>\n",
      "RangeIndex: 53940 entries, 0 to 53939\n",
      "Data columns (total 11 columns):\n",
      " #   Column      Non-Null Count  Dtype  \n",
      "---  ------      --------------  -----  \n",
      " 0   Unnamed: 0  53940 non-null  int64  \n",
      " 1   carat       53940 non-null  float64\n",
      " 2   cut         53940 non-null  object \n",
      " 3   color       53940 non-null  object \n",
      " 4   clarity     53939 non-null  object \n",
      " 5   depth       53940 non-null  float64\n",
      " 6   table       53940 non-null  float64\n",
      " 7   price       53940 non-null  int64  \n",
      " 8   x           53939 non-null  float64\n",
      " 9   y           53940 non-null  float64\n",
      " 10  z           53940 non-null  float64\n",
      "dtypes: float64(6), int64(2), object(3)\n",
      "memory usage: 4.5+ MB\n"
     ]
    }
   ],
   "source": [
    "df.info()"
   ]
  },
  {
   "cell_type": "code",
   "execution_count": 35,
   "id": "14bfb418-6375-4328-9821-ad0faf03cc39",
   "metadata": {},
   "outputs": [
    {
     "data": {
      "text/plain": [
       "0"
      ]
     },
     "execution_count": 35,
     "metadata": {},
     "output_type": "execute_result"
    }
   ],
   "source": [
    "df.duplicated().sum()"
   ]
  },
  {
   "cell_type": "code",
   "execution_count": 36,
   "id": "2e76f467-0d5e-4653-8c13-130f0a46788f",
   "metadata": {},
   "outputs": [
    {
     "data": {
      "text/plain": [
       "<bound method DataFrame.corr of        Unnamed: 0  carat        cut color clarity  depth  table  price     x  \\\n",
       "0               0   0.23      Ideal     E     SI2   61.5   55.0    326  3.95   \n",
       "1               1   0.21    Premium     E     SI1   59.8   61.0    326  3.89   \n",
       "2               2   0.23       Good     E     VS1   56.9   65.0    327  4.05   \n",
       "3               3   0.29    Premium     I     VS2   62.4   58.0    334  4.20   \n",
       "4               4   0.31       Good     J     SI2   63.3   58.0    335  4.34   \n",
       "...           ...    ...        ...   ...     ...    ...    ...    ...   ...   \n",
       "53935       53935   0.72      Ideal     D     SI1   60.8   57.0   2757  5.75   \n",
       "53936       53936   0.72       Good     D     SI1   63.1   55.0   2757  5.69   \n",
       "53937       53937   0.70  Very Good     D     SI1   62.8   60.0   2757  5.66   \n",
       "53938       53938   0.86    Premium     H     SI2   61.0   58.0   2757  6.15   \n",
       "53939       53939   0.75      Ideal     D     SI2   62.2   55.0   2757  5.83   \n",
       "\n",
       "          y     z  \n",
       "0      3.98  2.43  \n",
       "1      3.84  2.31  \n",
       "2      4.07  2.31  \n",
       "3      4.23  2.63  \n",
       "4      4.35  2.75  \n",
       "...     ...   ...  \n",
       "53935  5.76  3.50  \n",
       "53936  5.75  3.61  \n",
       "53937  5.68  3.56  \n",
       "53938  6.12  3.74  \n",
       "53939  5.87  3.64  \n",
       "\n",
       "[53940 rows x 11 columns]>"
      ]
     },
     "execution_count": 36,
     "metadata": {},
     "output_type": "execute_result"
    }
   ],
   "source": [
    "df.corr"
   ]
  },
  {
   "cell_type": "code",
   "execution_count": 37,
   "id": "6ed736c5-3707-439f-bad6-6290e89290a6",
   "metadata": {},
   "outputs": [
    {
     "data": {
      "text/plain": [
       "Unnamed: 0    0\n",
       "carat         0\n",
       "cut           0\n",
       "color         0\n",
       "clarity       1\n",
       "depth         0\n",
       "table         0\n",
       "price         0\n",
       "x             1\n",
       "y             0\n",
       "z             0\n",
       "dtype: int64"
      ]
     },
     "execution_count": 37,
     "metadata": {},
     "output_type": "execute_result"
    }
   ],
   "source": [
    "df.isnull().sum()"
   ]
  },
  {
   "cell_type": "code",
   "execution_count": 44,
   "id": "0e29d2ad-e508-43df-a06d-fb0c333db4b2",
   "metadata": {},
   "outputs": [
    {
     "data": {
      "text/plain": [
       "<Axes: >"
      ]
     },
     "execution_count": 44,
     "metadata": {},
     "output_type": "execute_result"
    },
    {
     "data": {
      "image/png": "[encoded data removed]",
      "text/plain": [
       "<Figure size 800x800 with 2 Axes>"
      ]
     },
     "metadata": {},
     "output_type": "display_data"
    }
   ],
   "source": [
    "# Select only numerical columns for correlation\n",
    "numeric_df = df.select_dtypes(include=['float64', 'int64'])\n",
    "\n",
    "plt.figure(figsize=(8,8))\n",
    "sns.heatmap(numeric_df.corr(), annot=True, cmap='coolwarm', fmt='.2f', linewidths=0.5)"
   ]
  },
  {
   "cell_type": "code",
   "execution_count": 43,
   "id": "bc40d5f1-49bc-42ef-bfec-62844839aa59",
   "metadata": {},
   "outputs": [
    {
     "name": "stdout",
     "output_type": "stream",
     "text": [
      "Categorical columns: ['cut', 'color', 'clarity']\n",
      "abel Encoding:    cut_LE  color_LE  clarity_LE\n",
      "0       2         1           4\n",
      "1       3         1           3\n",
      "2       1         1           5\n",
      "3       3         5           6\n",
      "4       1         6           4\n",
      "one-Hot Encoding:    Unnamed: 0  carat  depth  table  price     x     y     z  cut_LE  color_LE  \\\n",
      "0           0   0.23   61.5   55.0    326  3.95  3.98  2.43       2         1   \n",
      "1           1   0.21   59.8   61.0    326  3.89  3.84  2.31       3         1   \n",
      "2           2   0.23   56.9   65.0    327  4.05  4.07  2.31       1         1   \n",
      "3           3   0.29   62.4   58.0    334  4.20  4.23  2.63       3         5   \n",
      "4           4   0.31   63.3   58.0    335  4.34  4.35  2.75       1         6   \n",
      "\n",
      "   ...  color_J  color_e  clarity_I1  clarity_IF  clarity_SI1  clarity_SI2  \\\n",
      "0  ...    False    False       False       False        False         True   \n",
      "1  ...    False    False       False       False         True        False   \n",
      "2  ...    False    False       False       False        False        False   \n",
      "3  ...    False    False       False       False        False        False   \n",
      "4  ...     True    False       False       False        False         True   \n",
      "\n",
      "   clarity_VS1  clarity_VS2  clarity_VVS1  clarity_VVS2  \n",
      "0        False        False         False         False  \n",
      "1        False        False         False         False  \n",
      "2         True        False         False         False  \n",
      "3        False         True         False         False  \n",
      "4        False        False         False         False  \n",
      "\n",
      "[5 rows x 32 columns]\n"
     ]
    }
   ],
   "source": [
    "cat_cols = ['cut', 'color', 'clarity']\n",
    "print(\"Categorical columns:\", cat_cols)\n",
    "le = LabelEncoder()\n",
    "for col in cat_cols:\n",
    "    df[col + '_LE'] = le.fit_transform(df[col])\n",
    "    \n",
    "df_onehot = pd.get_dummies(df, columns=cat_cols, drop_first=True)\n",
    "print(\"abel Encoding:\", df[[col + '_LE' for col in cat_cols]].head())\n",
    "print(\"one-Hot Encoding:\", df_onehot.head())"
   ]
  },
  {
   "cell_type": "code",
   "execution_count": 42,
   "id": "b90cc430-4396-4032-a19e-f44ccc91082b",
   "metadata": {},
   "outputs": [
    {
     "name": "stdout",
     "output_type": "stream",
     "text": [
      "carat      | Skew: 1.12 | Method: PowerTransformer\n",
      "depth      | Skew: -0.08 | Method: StandardScaler\n",
      "table      | Skew: 0.80 | Method: RobustScaler\n",
      "price      | Skew: 1.62 | Method: PowerTransformer\n",
      "x          | Skew: 0.38 | Method: StandardScaler\n",
      "y          | Skew: 2.43 | Method: PowerTransformer\n",
      "z          | Skew: 1.52 | Method: PowerTransformer\n",
      "cut_LE     | Skew: -0.19 | Method: StandardScaler\n",
      "color_LE   | Skew: 0.19 | Method: StandardScaler\n",
      "clarity_LE | Skew: 0.17 | Method: StandardScaler\n",
      "\n",
      ":\n",
      "   Unnamed: 0  carat      cut color clarity  depth  table  price     x     y  \\\n",
      "0           0   0.23    Ideal     E     SI2   61.5   55.0    326  3.95  3.98   \n",
      "1           1   0.21  Premium     E     SI1   59.8   61.0    326  3.89  3.84   \n",
      "2           2   0.23     Good     E     VS1   56.9   65.0    327  4.05  4.07   \n",
      "3           3   0.29  Premium     I     VS2   62.4   58.0    334  4.20  4.23   \n",
      "4           4   0.31     Good     J     SI2   63.3   58.0    335  4.34  4.35   \n",
      "\n",
      "   ...  carat_scaled  depth_scaled  table_scaled  price_scaled  x_scaled  \\\n",
      "0  ...     -1.706846     -0.174092     -0.666667     -2.078425 -1.587820   \n",
      "1  ...     -1.815943     -1.360738      1.333333     -2.078425 -1.641307   \n",
      "2  ...     -1.706846     -3.385019      2.666667     -2.074974 -1.498674   \n",
      "3  ...     -1.402287      0.454133      0.333333     -2.051125 -1.364956   \n",
      "4  ...     -1.307720      1.082358      0.333333     -2.047761 -1.240152   \n",
      "\n",
      "   y_scaled  z_scaled  cut_LE_scaled  color_LE_scaled  clarity_LE_scaled  \n",
      "0 -1.745718 -1.722455      -0.538116        -0.937178          -0.484245  \n",
      "1 -1.918765 -1.943886       0.434800        -0.937178          -1.064037  \n",
      "2 -1.637044 -1.943886      -1.511032        -0.937178           0.095546  \n",
      "3 -1.448560 -1.367432       0.434800         1.414130           0.675338  \n",
      "4 -1.310972 -1.162215      -1.511032         2.001957          -0.484245  \n",
      "\n",
      "[5 rows x 24 columns]\n"
     ]
    }
   ],
   "source": [
    "numeric_cols = df.select_dtypes(include=np.number).columns.tolist()\n",
    "if 'Unnamed: 0' in numeric_cols:\n",
    "    numeric_cols.remove('Unnamed: 0')\n",
    "df_scaled = df.copy()\n",
    "\n",
    "for col in numeric_cols:\n",
    "    skewness = df[col].skew()\n",
    "    \n",
    "    if abs(skewness) < 0.5:\n",
    "        scaler = StandardScaler()\n",
    "        scaled = scaler.fit_transform(df[[col]])\n",
    "        method = \"StandardScaler\"\n",
    "    \n",
    "    elif abs(skewness) > 1:\n",
    "        transformer = PowerTransformer(method='yeo-johnson')\n",
    "        scaled = transformer.fit_transform(df[[col]])\n",
    "        method = \"PowerTransformer\"\n",
    "    \n",
    "    else:\n",
    "        scaler = RobustScaler()\n",
    "        scaled = scaler.fit_transform(df[[col]])\n",
    "        method = \"RobustScaler\"\n",
    "    \n",
    "    df_scaled[col + \"_scaled\"] = scaled\n",
    "    print(f\"{col:<10} | Skew: {skewness:.2f} | Method: {method}\")\n",
    "\n",
    "print(\"\\n:\")\n",
    "print(df_scaled.head())"
   ]
  },
  {
   "cell_type": "code",
   "execution_count": 41,
   "id": "c6315a0b-20bc-4a2a-99c7-0e7c1591b2f0",
   "metadata": {},
   "outputs": [],
   "source": [
    "numeric_cols = df.select_dtypes(include=['float64', 'int64']).columns"
   ]
  }
 ],
 "metadata": {
  "kernelspec": {
   "display_name": "Python 3 (ipykernel)",
   "language": "python",
   "name": "python3"
  },
  "language_info": {
   "codemirror_mode": {
    "name": "ipython",
    "version": 3
   },
   "file_extension": ".py",
   "mimetype": "text/x-python",
   "name": "python",
   "nbconvert_exporter": "python",
   "pygments_lexer": "ipython3",
   "version": "3.12.4"
  }
 },
 "nbformat": 4,
 "nbformat_minor": 5
}
